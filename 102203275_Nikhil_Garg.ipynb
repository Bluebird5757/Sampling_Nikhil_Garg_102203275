{
  "nbformat": 4,
  "nbformat_minor": 0,
  "metadata": {
    "colab": {
      "provenance": [],
      "gpuType": "T4"
    },
    "kernelspec": {
      "name": "python3",
      "display_name": "Python 3"
    },
    "language_info": {
      "name": "python"
    },
    "accelerator": "GPU"
  },
  "cells": [
    {
      "cell_type": "code",
      "execution_count": 7,
      "metadata": {
        "colab": {
          "base_uri": "https://localhost:8080/"
        },
        "id": "aCikERl0QqWC",
        "outputId": "3a238084-aba2-4924-c4c2-2bc8f6c96f76"
      },
      "outputs": [
        {
          "output_type": "stream",
          "name": "stderr",
          "text": [
            "/usr/local/lib/python3.11/dist-packages/sklearn/linear_model/_logistic.py:465: ConvergenceWarning: lbfgs failed to converge (status=1):\n",
            "STOP: TOTAL NO. of ITERATIONS REACHED LIMIT.\n",
            "\n",
            "Increase the number of iterations (max_iter) or scale the data as shown in:\n",
            "    https://scikit-learn.org/stable/modules/preprocessing.html\n",
            "Please also refer to the documentation for alternative solver options:\n",
            "    https://scikit-learn.org/stable/modules/linear_model.html#logistic-regression\n",
            "  n_iter_i = _check_optimize_result(\n",
            "/usr/local/lib/python3.11/dist-packages/sklearn/linear_model/_logistic.py:465: ConvergenceWarning: lbfgs failed to converge (status=1):\n",
            "STOP: TOTAL NO. of ITERATIONS REACHED LIMIT.\n",
            "\n",
            "Increase the number of iterations (max_iter) or scale the data as shown in:\n",
            "    https://scikit-learn.org/stable/modules/preprocessing.html\n",
            "Please also refer to the documentation for alternative solver options:\n",
            "    https://scikit-learn.org/stable/modules/linear_model.html#logistic-regression\n",
            "  n_iter_i = _check_optimize_result(\n",
            "/usr/local/lib/python3.11/dist-packages/sklearn/linear_model/_logistic.py:465: ConvergenceWarning: lbfgs failed to converge (status=1):\n",
            "STOP: TOTAL NO. of ITERATIONS REACHED LIMIT.\n",
            "\n",
            "Increase the number of iterations (max_iter) or scale the data as shown in:\n",
            "    https://scikit-learn.org/stable/modules/preprocessing.html\n",
            "Please also refer to the documentation for alternative solver options:\n",
            "    https://scikit-learn.org/stable/modules/linear_model.html#logistic-regression\n",
            "  n_iter_i = _check_optimize_result(\n"
          ]
        },
        {
          "output_type": "stream",
          "name": "stdout",
          "text": [
            "Formatted results saved to 'sampling_model_results_formatted.csv'\n",
            "Best Sampling Technique for Each Model:\n",
            "Model\n",
            "Logistic Regression    Cluster Sample 2500\n",
            "Gradient Boosting      Cluster Sample 2500\n",
            "K-Nearest Neighbors    Cluster Sample 2000\n",
            "Decision Tree          Cluster Sample 2000\n",
            "Naive Bayes            Cluster Sample 1000\n",
            "dtype: object\n"
          ]
        }
      ],
      "source": [
        "import pandas as pd\n",
        "from sklearn.model_selection import train_test_split\n",
        "from sklearn.metrics import accuracy_score\n",
        "from sklearn.linear_model import LogisticRegression\n",
        "from sklearn.ensemble import GradientBoostingClassifier\n",
        "from sklearn.neighbors import KNeighborsClassifier\n",
        "from sklearn.tree import DecisionTreeClassifier\n",
        "from sklearn.naive_bayes import GaussianNB\n",
        "from imblearn.over_sampling import SMOTE\n",
        "import numpy as np\n",
        "\n",
        "\n",
        "credit_card_data = pd.read_csv('Creditcard_data.csv')\n",
        "\n",
        "\n",
        "features = credit_card_data.drop(columns=[\"Class\"])\n",
        "labels = credit_card_data[\"Class\"]\n",
        "\n",
        "\n",
        "smote_resampler = SMOTE(random_state=42)\n",
        "balanced_features, balanced_labels = smote_resampler.fit_resample(features, labels)\n",
        "\n",
        "\n",
        "def systematic_sample(features, labels, sample_size):\n",
        "    step = len(features) // sample_size\n",
        "    indices = np.arange(0, len(features), step)[:sample_size]\n",
        "    return features.iloc[indices], labels.iloc[indices]\n",
        "\n",
        "def cluster_sample(features, labels, sample_size, n_clusters=10):\n",
        "    cluster_size = len(features) // n_clusters\n",
        "    clusters = [features.iloc[i:i + cluster_size] for i in range(0, len(features), cluster_size)]\n",
        "    label_clusters = [labels.iloc[i:i + cluster_size] for i in range(0, len(labels), cluster_size)]\n",
        "    selected_clusters = np.random.choice(len(clusters), size=n_clusters // 2, replace=False)\n",
        "    sampled_features = pd.concat([clusters[i] for i in selected_clusters])\n",
        "    sampled_labels = pd.concat([label_clusters[i] for i in selected_clusters])\n",
        "\n",
        "    return sampled_features.iloc[:sample_size], sampled_labels.iloc[:sample_size]\n",
        "\n",
        "# Define sample sizes\n",
        "sample_sizes = [500, 1000, 1500, 2000, 2500]\n",
        "\n",
        "# Generate samples using different methods\n",
        "sampling_methods = {\n",
        "    \"Systematic Sample 500\": systematic_sample(balanced_features, balanced_labels, sample_sizes[0]),\n",
        "    \"Cluster Sample 1000\": cluster_sample(balanced_features, balanced_labels, sample_sizes[1]),\n",
        "    \"Systematic Sample 1500\": systematic_sample(balanced_features, balanced_labels, sample_sizes[2]),\n",
        "    \"Cluster Sample 2000\": cluster_sample(balanced_features, balanced_labels, sample_sizes[3]),\n",
        "    \"Cluster Sample 2500\": cluster_sample(balanced_features, balanced_labels, sample_sizes[4]),\n",
        "}\n",
        "\n",
        "#Define Classifiers\n",
        "classifiers = {\n",
        "    \"Logistic Regression\": LogisticRegression(max_iter=1000),\n",
        "    \"Gradient Boosting\": GradientBoostingClassifier(),\n",
        "    \"K-Nearest Neighbors\": KNeighborsClassifier(n_neighbors=5),\n",
        "    \"Decision Tree\": DecisionTreeClassifier(),\n",
        "    \"Naive Bayes\": GaussianNB()\n",
        "}\n",
        "\n",
        "results = pd.DataFrame()\n",
        "\n",
        "for sample_label, (X_sample, y_sample) in sampling_methods.items():\n",
        "    X_train, X_test, y_train, y_test = train_test_split(X_sample, y_sample, test_size=0.2, random_state=42)\n",
        "\n",
        "    sample_results = {}\n",
        "    for model_label, model in classifiers.items():\n",
        "        model.fit(X_train, y_train)\n",
        "        predictions = model.predict(X_test)\n",
        "        acc = accuracy_score(y_test, predictions)\n",
        "        sample_results[model_label] = acc\n",
        "\n",
        "    sample_results[\"Sampling Applied\"] = sample_label\n",
        "    results = pd.concat([results, pd.DataFrame([sample_results])], ignore_index=True)\n",
        "\n",
        "formatted_results = results.set_index(\"Sampling Applied\").T\n",
        "formatted_results.index = formatted_results.index.str.replace(\"_\", \" \")\n",
        "formatted_results = formatted_results.reset_index().rename(columns={\"index\": \"Model\"})\n",
        "\n",
        "formatted_results.to_csv('sampling_model_results_formatted.csv', index=False)\n",
        "print(\"Formatted results saved to 'sampling_model_results_formatted.csv'\")\n",
        "best_sampling_per_model = formatted_results.set_index(\"Model\").idxmax(axis=1)\n",
        "print(\"Best Sampling Technique for Each Model:\")\n",
        "print(best_sampling_per_model)\n"
      ]
    },
    {
      "cell_type": "code",
      "source": [],
      "metadata": {
        "id": "jJ_zezJDTENN"
      },
      "execution_count": null,
      "outputs": []
    }
  ]
}